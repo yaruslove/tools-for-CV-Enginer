{
 "cells": [
  {
   "cell_type": "code",
   "execution_count": 1,
   "id": "7371816e-f5b2-435a-aa54-7587fa826c40",
   "metadata": {
    "scrolled": true
   },
   "outputs": [],
   "source": [
    "import os\n",
    "from PIL import Image\n",
    "import pillow_heif"
   ]
  },
  {
   "cell_type": "code",
   "execution_count": 2,
   "id": "bd3f3573-dd67-4f90-8848-e16d115ee56c",
   "metadata": {},
   "outputs": [],
   "source": [
    "def convert_heic (src, dst):\n",
    "    heif_file = pillow_heif.read_heif(src)\n",
    "    image = Image.frombytes(\n",
    "        heif_file.mode,\n",
    "        heif_file.size,\n",
    "        heif_file.data,\n",
    "        \"raw\"\n",
    "    )\n",
    "    image.save(dst, compress_level=4)\n"
   ]
  },
  {
   "cell_type": "code",
   "execution_count": 3,
   "id": "ba6ca989-3c12-4008-848c-c34a747bed89",
   "metadata": {},
   "outputs": [],
   "source": [
    "src_path = \"/Users/YaVolkonskiy/Documents/001_Projects/003_tomato/001_data/001_raw_data/010_data_greenhouse_20_12_23/iphone/raw_data\"\n",
    "dst_path = \"/Users/YaVolkonskiy/Documents/001_Projects/003_tomato/001_data/001_raw_data/010_data_greenhouse_20_12_23/iphone/converted\"\n",
    "\n",
    "for name_img in os.listdir(src_path):\n",
    "    if name_img.endswith(\".HEIC\"):\n",
    "        name, ext = name_img.split(\".\")\n",
    "        src = os.path.join(src_path,name_img)\n",
    "        dst = os.path.join(dst_path,f\"{name}.png\")\n",
    "        convert_heic(src, dst)"
   ]
  },
  {
   "cell_type": "code",
   "execution_count": null,
   "id": "ea756435-7430-4bcb-a582-99d0c3084c15",
   "metadata": {},
   "outputs": [],
   "source": [
    "a =\"IMG_0236.HEIC\"\n",
    "a1,a2 = a.split(\".\")\n"
   ]
  },
  {
   "cell_type": "code",
   "execution_count": 7,
   "id": "76629a0f-9ff1-472b-b04b-22c0e8d492df",
   "metadata": {},
   "outputs": [],
   "source": [
    "import cv2\n",
    "\n",
    "src_path = \"/Users/YaVolkonskiy/Documents/001_Projects/003_tomato/001_data/001_raw_data/010_data_greenhouse_20_12_23/luxonis/uvc_cv2\"\n",
    "dst_path = \"/Users/YaVolkonskiy/Documents/001_Projects/003_tomato/001_data/001_raw_data/010_data_greenhouse_20_12_23/luxonis/resized/uvc_cv2\"\n",
    "\n",
    "up_points = (1408, 800)\n",
    "\n",
    "for name_img in os.listdir(src_path):\n",
    "    if name_img.endswith(\".png\"):\n",
    "        src = os.path.join(src_path,name_img)\n",
    "        dst = os.path.join(dst_path, name_img)\n",
    "        image = cv2.imread(src)\n",
    "    \n",
    "        resized_up = cv2.resize(image, up_points, interpolation= cv2.INTER_LINEAR)\n",
    "        cv2.imwrite(dst, resized_up)"
   ]
  },
  {
   "cell_type": "code",
   "execution_count": null,
   "id": "16a6f817-5adb-4772-bf51-b3741cefc142",
   "metadata": {},
   "outputs": [],
   "source": []
  }
 ],
 "metadata": {
  "kernelspec": {
   "display_name": "Python 3 (ipykernel)",
   "language": "python",
   "name": "python3"
  },
  "language_info": {
   "codemirror_mode": {
    "name": "ipython",
    "version": 3
   },
   "file_extension": ".py",
   "mimetype": "text/x-python",
   "name": "python",
   "nbconvert_exporter": "python",
   "pygments_lexer": "ipython3",
   "version": "3.11.6"
  }
 },
 "nbformat": 4,
 "nbformat_minor": 5
}
