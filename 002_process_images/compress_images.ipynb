{
 "cells": [
  {
   "cell_type": "code",
   "execution_count": 13,
   "id": "dc8d4782-fd1c-414b-91ad-f6ea6b2ea4c5",
   "metadata": {},
   "outputs": [],
   "source": [
    "import os\n",
    "import cv2"
   ]
  },
  {
   "cell_type": "code",
   "execution_count": 11,
   "id": "40684825-75f2-471c-b0a6-31bbc170f3c4",
   "metadata": {},
   "outputs": [
    {
     "data": {
      "text/plain": [
       "'PC201527.png'"
      ]
     },
     "execution_count": 11,
     "metadata": {},
     "output_type": "execute_result"
    }
   ],
   "source": [
    "ii = \"PC201527.JPG\"\n",
    "\n",
    "name_file = ii.split(\".\")[0]\n",
    "new_name_png = ''.join([name_file,\".png\"])\n",
    "new_name_png"
   ]
  },
  {
   "cell_type": "code",
   "execution_count": 16,
   "id": "b1937391-6abd-44b7-b015-c1ea32977f02",
   "metadata": {},
   "outputs": [],
   "source": [
    "src_imgs = \"/Users/YaVolkonskiy/Documents/001_Projects/003_tomato/001_data/001_raw_data/010_data_greenhouse_20_12_23/selected/\"\n",
    "dst_imgs = \"/Users/YaVolkonskiy/Documents/001_Projects/003_tomato/001_data/001_raw_data/010_data_greenhouse_20_12_23/selected_compress/\"\n",
    "\n",
    "\n",
    "for i in os.listdir(src_imgs):\n",
    "    src_file = os.path.join(src_imgs, i)\n",
    "    img = cv2.imread(src_file)\n",
    "\n",
    "    # dst file name\n",
    "    name_file = i.split(\".\")[0]\n",
    "    new_name_png = ''.join([name_file,\".png\"])\n",
    "    dst_file = os.path.join(dst_imgs, new_name_png)\n",
    "\n",
    "\n",
    "    # comress file\n",
    "    png_quality = 3  # For PNG, it can be the compression level from 0 to 9. A higher value means a smaller size and longer compression time. If specified, strategy is changed to IMWRITE_PNG_STRATEGY_DEFAULT (Z_DEFAULT_STRATEGY). Default value is 1 (best speed setting).\n",
    "    cv2.imwrite(dst_file, img,  [cv2.IMWRITE_PNG_COMPRESSION, png_quality])\n",
    "\n",
    "    # jpeg_quality = 90  # A value between 0 and 100 (higher means better quality, but larger file size)\n",
    "    # cv2.imwrite('lossy_compressed_image.jpg', img, [cv2.IMWRITE_JPEG_QUALITY, jpeg_quality])\n"
   ]
  },
  {
   "cell_type": "code",
   "execution_count": null,
   "id": "a52652d4-4d8c-41f8-8e41-baec6ad1ce0d",
   "metadata": {},
   "outputs": [],
   "source": []
  }
 ],
 "metadata": {
  "kernelspec": {
   "display_name": "Python 3 (ipykernel)",
   "language": "python",
   "name": "python3"
  },
  "language_info": {
   "codemirror_mode": {
    "name": "ipython",
    "version": 3
   },
   "file_extension": ".py",
   "mimetype": "text/x-python",
   "name": "python",
   "nbconvert_exporter": "python",
   "pygments_lexer": "ipython3",
   "version": "3.11.6"
  }
 },
 "nbformat": 4,
 "nbformat_minor": 5
}
