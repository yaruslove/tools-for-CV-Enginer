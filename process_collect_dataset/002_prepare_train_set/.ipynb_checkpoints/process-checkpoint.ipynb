{
 "cells": [
  {
   "cell_type": "markdown",
   "id": "ecc729be-27dd-463b-bc1c-80cb994a18a9",
   "metadata": {},
   "source": [
    "## Getting list sorted dirs for copying"
   ]
  },
  {
   "cell_type": "code",
   "execution_count": null,
   "id": "f3876048-70b0-4cdb-8c4f-4dba93e5c8e6",
   "metadata": {},
   "outputs": [],
   "source": [
    "import pandas as pd\n",
    "import os\n",
    "import glob\n",
    "import random\n",
    "import shutil\n",
    "\n",
    "train_csv=\"/home/arch/Документы/project/angel/incass_classification/dataset/trains/003_train/train_set.csv\"\n",
    "test_csv=\"/home/arch/Документы/project/angel/incass_classification/dataset/trains/003_train/valid_set.csv\"\n",
    "\n",
    "df_csv_train = pd.read_csv(train_csv, delimiter=\";\",index_col=\"Name\")\n",
    "df_csv_test = pd.read_csv(test_csv, delimiter=\";\",index_col=\"Name\")\n",
    "print(f\"Test sum: {df_csv_test.sum().sum()}\")\n",
    "print(f\"Train sum: {df_csv_train.sum().sum()}\")\n",
    "\n",
    "df_csv_test"
   ]
  },
  {
   "cell_type": "code",
   "execution_count": null,
   "id": "71515fc5-2934-450c-8dde-2e5b1fae83e0",
   "metadata": {},
   "outputs": [],
   "source": [
    "df_csv_train"
   ]
  },
  {
   "cell_type": "code",
   "execution_count": null,
   "id": "c02c93f7-603b-4ade-a416-285cd312f049",
   "metadata": {},
   "outputs": [],
   "source": [
    "# def is_duplicate(anylist):\n",
    "#     if type(anylist) != type ( list() ):\n",
    "#         return(\"Error. Passed parameter is Not a list\")\n",
    "#     if len(anylist) != len(set(anylist)):\n",
    "#         return True\n",
    "#     else:\n",
    "#         return False"
   ]
  },
  {
   "cell_type": "code",
   "execution_count": null,
   "id": "e35d686b-f647-4986-92b1-4fd533799113",
   "metadata": {
    "scrolled": true
   },
   "outputs": [],
   "source": [
    "# all_dirs_forTrain=sorted(list(df_csv_train.Name)+list(df_csv_test.Name))#.sort()\n",
    "# print(f\"Is there are duplicates: {is_duplicate(all_dirs_forTrain)} \\n\")\n",
    "\n",
    "# all_dirs_forTrain"
   ]
  },
  {
   "cell_type": "markdown",
   "id": "94c9973f-3ee9-4ecc-ae89-10a26b332917",
   "metadata": {},
   "source": [
    "## Copy all dir inside sorted => for train"
   ]
  },
  {
   "cell_type": "code",
   "execution_count": null,
   "id": "f1a1f9f2-d398-4750-8cc3-1712505bf665",
   "metadata": {},
   "outputs": [],
   "source": [
    "# import shutil\n",
    "\n",
    "# def copy_all_mkdir(src,dst):\n",
    "#     shutil.copytree(src, dst, symlinks=False, ignore=None, copy_function=shutil.copy2, ignore_dangling_symlinks=False, dirs_exist_ok=False)"
   ]
  },
  {
   "cell_type": "code",
   "execution_count": null,
   "id": "3542ef36-9f30-4dbf-92a1-6f1a99235f31",
   "metadata": {},
   "outputs": [],
   "source": [
    "# src_data = \"/home/arch/Документы/project/angel/incass_classification/dataset/prepared_data_001/\"\n",
    "# dst_data = \"/home/arch/Документы/project/angel/incass_classification/dataset/trains/003_train/data_for_train/\"\n",
    "\n",
    "# for dir in all_dirs_forTrain:\n",
    "#     src_current=os.path.join(src_data, dir, \"sorted\")\n",
    "#     dst_current=os.path.join(dst_data, dir)\n",
    "#     copy_all_mkdir(src_current,dst_current)"
   ]
  },
  {
   "cell_type": "code",
   "execution_count": null,
   "id": "eb3702f1-a603-4391-827c-be69e04579c5",
   "metadata": {},
   "outputs": [],
   "source": []
  },
  {
   "cell_type": "code",
   "execution_count": null,
   "id": "7a57080b-1deb-4bcf-a4f7-9847720f94c9",
   "metadata": {},
   "outputs": [],
   "source": [
    "def copyFiles2dir(lst_imgs, dst):\n",
    "    os.makedirs(dst, exist_ok=True)\n",
    "    for img_pth in lst_imgs:\n",
    "        shutil.copy(img_pth, dst)\n"
   ]
  },
  {
   "cell_type": "code",
   "execution_count": null,
   "id": "2801fb54-71a3-459b-94af-69660eb0ad0f",
   "metadata": {
    "scrolled": true
   },
   "outputs": [],
   "source": [
    "def recollect_dataset(dframe_csv,src_data,dst_data):\n",
    "    for main_dir, row in dframe_csv.iterrows():\n",
    "        current_main_dir=os.path.join(src_data, main_dir, \"sorted\")\n",
    "        for name_class, cell_value  in zip(row.index,row):\n",
    "            current_class_dir = os.path.join(current_main_dir, name_class)\n",
    "            if not os.path.exists(current_class_dir):\n",
    "                continue\n",
    "            all_dir_sampels = glob.glob(f\"{current_class_dir}/*\")\n",
    "            selected_imgs = random.sample(all_dir_sampels, cell_value)\n",
    "            curent_dst=os.path.join(dst_data,main_dir,name_class)\n",
    "            \n",
    "            copyFiles2dir(selected_imgs,curent_dst)\n",
    "    print(f\"Process done!\")"
   ]
  },
  {
   "cell_type": "markdown",
   "id": "eba0c9cb-0b4d-4dee-ba96-8f84b57490f9",
   "metadata": {},
   "source": [
    "# TRAIN set"
   ]
  },
  {
   "cell_type": "code",
   "execution_count": null,
   "id": "2f29e1da-d84c-4eff-bd1f-31cdc138f475",
   "metadata": {},
   "outputs": [],
   "source": [
    "src_data = \"/home/arch/Документы/project/angel/incass_classification/dataset/prepared_data_001/\"\n",
    "dst_data = \"/home/arch/Документы/project/angel/incass_classification/dataset/trains/003_train/data_train/train/\"\n",
    "\n",
    "recollect_dataset(df_csv_train, src_data, dst_data)"
   ]
  },
  {
   "cell_type": "markdown",
   "id": "5f02b35a-8a41-401e-816c-28cd9beb8602",
   "metadata": {},
   "source": [
    "# VALID set"
   ]
  },
  {
   "cell_type": "code",
   "execution_count": null,
   "id": "6933f027-b78d-4a7d-ab96-b289ab5f48a6",
   "metadata": {},
   "outputs": [],
   "source": [
    "src_data = \"/home/arch/Документы/project/angel/incass_classification/dataset/prepared_data_001/\"\n",
    "dst_data = \"/home/arch/Документы/project/angel/incass_classification/dataset/trains/003_train/data_train/valid/\"\n",
    "\n",
    "recollect_dataset(df_csv_test, src_data, dst_data)"
   ]
  },
  {
   "cell_type": "markdown",
   "id": "e5de85f0-e5f0-4d99-9f33-2c538c0e6f4b",
   "metadata": {},
   "source": [
    "# MAKE YAML"
   ]
  },
  {
   "cell_type": "code",
   "execution_count": null,
   "id": "015c8e0a-1055-4f3e-b241-ecceaec6f3f4",
   "metadata": {},
   "outputs": [],
   "source": [
    "import yaml"
   ]
  },
  {
   "cell_type": "code",
   "execution_count": null,
   "id": "e9220576-b44d-4fae-8f0d-3f20fc3dd3ce",
   "metadata": {},
   "outputs": [],
   "source": [
    "# class_case={\"black\":0,\"blue\":1,\"without\":2}\n",
    "# class_incass={\"not_incass\":0,\"incass\":1}"
   ]
  },
  {
   "cell_type": "code",
   "execution_count": null,
   "id": "5e662850-a3b8-4bf3-98e2-09ea19b994e2",
   "metadata": {},
   "outputs": [],
   "source": [
    "# struct_train = {{\"img_pth\":{\"class_case\":0\n",
    "#                             \"class_incass\":1}}}"
   ]
  },
  {
   "cell_type": "code",
   "execution_count": null,
   "id": "70155381-ee01-4156-893a-6d7c3c68b09a",
   "metadata": {},
   "outputs": [],
   "source": []
  },
  {
   "cell_type": "code",
   "execution_count": 1,
   "id": "8fa7318a-f5f6-4399-ae9b-64c3d6e9628d",
   "metadata": {},
   "outputs": [],
   "source": [
    "import yaml\n",
    "import os"
   ]
  },
  {
   "cell_type": "code",
   "execution_count": 2,
   "id": "c3b4f595-b9f3-4a03-a2f0-0d41248ad8e8",
   "metadata": {},
   "outputs": [],
   "source": [
    "slovar = {\"collector_black_case\":{\"class_case\":0,\n",
    "                                  \"class_person\":1},\n",
    "          \"collector_case\":      {\"class_case\":1,\n",
    "                                  \"class_person\":1},\n",
    "          \"collector_no_case\":   {\"class_case\":2,\n",
    "                                  \"class_person\":1},\n",
    "          \"person\":              {\"class_case\":2,\n",
    "                                  \"class_person\":0},\n",
    "          \"undefined\":           {\"class_case\":2,\n",
    "                                  \"class_person\":0},}"
   ]
  },
  {
   "cell_type": "code",
   "execution_count": 6,
   "id": "3290ec32-b5aa-4e8a-b326-38869051c1d1",
   "metadata": {
    "scrolled": true
   },
   "outputs": [],
   "source": [
    "\n",
    "\n",
    "def write_yaml_to_file(py_obj,filename):\n",
    "    yaml.Dumper.ignore_aliases = lambda *args : True\n",
    "    with open(f'{filename}.yaml', 'w',) as f :\n",
    "        yaml.dump(py_obj,f,sort_keys=False) \n",
    "    print('Written to file successfully')\n",
    "\n",
    "\n",
    "def create_YAML_labels(dir_src,slovar,pth_out_YAML):\n",
    "    train_label_dict={}\n",
    "    for upper_dir in os.listdir(dir_src):\n",
    "        path_dir_sample=os.path.join(dir_src,upper_dir)\n",
    "        for class_dir in os.listdir(path_dir_sample):\n",
    "            current_label=slovar[class_dir]\n",
    "    \n",
    "            path_dir_class=os.path.join(path_dir_sample,class_dir)\n",
    "            for img_pth in os.listdir(path_dir_class):\n",
    "                key_YAML=os.path.join(upper_dir,class_dir,img_pth)\n",
    "                train_label_dict[key_YAML]=current_label\n",
    "    \n",
    "    # write YAML file\n",
    "    write_yaml_to_file(train_label_dict,pth_out_YAML)\n",
    "    return  train_label_dict"
   ]
  },
  {
   "cell_type": "markdown",
   "id": "4cd32b42-94a9-4fa7-9573-8f4ae2f57da9",
   "metadata": {},
   "source": [
    "# write train"
   ]
  },
  {
   "cell_type": "code",
   "execution_count": 7,
   "id": "1e579cd1-2533-4e07-aebb-421db05487d1",
   "metadata": {},
   "outputs": [
    {
     "name": "stdout",
     "output_type": "stream",
     "text": [
      "Written to file successfully\n"
     ]
    }
   ],
   "source": [
    "dir_src=\"/home/arch/Документы/project/angel/incass_classification/dataset/trains/003_train/data_train/train/\"\n",
    "pth_out_YAML = \"/home/arch/Документы/project/angel/incass_classification/dataset/trains/003_train/data_train/train_label\"\n",
    "\n",
    "label_dict=create_YAML_labels(dir_src,slovar,pth_out_YAML)"
   ]
  },
  {
   "cell_type": "markdown",
   "id": "570f695f-bb8a-4cee-9ca3-de1d61eeeb9e",
   "metadata": {},
   "source": [
    "# write valid"
   ]
  },
  {
   "cell_type": "code",
   "execution_count": null,
   "id": "77c8d268-4d32-4ba3-9aa4-f9429fbea5be",
   "metadata": {},
   "outputs": [],
   "source": [
    "dir_src=\"/home/arch/Документы/project/angel/incass_classification/dataset/trains/003_train/data_train/train/\"\n",
    "pth_out_YAML = \"/home/arch/Документы/project/angel/incass_classification/dataset/trains/003_train/data_train/valid_label\"\n",
    "\n",
    "label_dict=create_YAML_labels(dir_src,slovar,pth_out_YAML)"
   ]
  }
 ],
 "metadata": {
  "kernelspec": {
   "display_name": "Python 3 (ipykernel)",
   "language": "python",
   "name": "python3"
  },
  "language_info": {
   "codemirror_mode": {
    "name": "ipython",
    "version": 3
   },
   "file_extension": ".py",
   "mimetype": "text/x-python",
   "name": "python",
   "nbconvert_exporter": "python",
   "pygments_lexer": "ipython3",
   "version": "3.10.6"
  }
 },
 "nbformat": 4,
 "nbformat_minor": 5
}
