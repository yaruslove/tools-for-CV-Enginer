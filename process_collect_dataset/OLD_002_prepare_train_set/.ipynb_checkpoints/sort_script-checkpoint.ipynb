{
 "cells": [
  {
   "cell_type": "markdown",
   "id": "ed5b5212-64d7-4f8a-b5cb-e345e7caf959",
   "metadata": {},
   "source": [
    "# Split to diferent dirs"
   ]
  },
  {
   "cell_type": "markdown",
   "id": "d91112d9-16ea-4f67-8b3e-a7d701fe0caf",
   "metadata": {},
   "source": [
    "# Train"
   ]
  },
  {
   "cell_type": "code",
   "execution_count": 1,
   "id": "edd03787-988c-4543-b14b-bbcde1bbd06f",
   "metadata": {},
   "outputs": [],
   "source": [
    "import os\n",
    "import random\n",
    "import pathlib\n",
    "import shutil"
   ]
  },
  {
   "cell_type": "code",
   "execution_count": 2,
   "id": "5c9a3399-f8fa-4aa3-bac8-42d9ab8d2325",
   "metadata": {},
   "outputs": [],
   "source": [
    "slovar={\"001_inside_car_incass_DONE!\":               [1,1,0.49,0.4,0.84],\n",
    "        \"008_Collector_classificator_Tatyana_DONE!\": [1,1,1,0.4,0],\n",
    "        \"009_Postanovka_Anton_DONE!\":                [0.44,1,1,0.2,0.84],\n",
    "        \"010_Postanovka_Abza\":                       [0.44,1,1,0.2,0.84],\n",
    "        \"011_1_Postanovka_Yar_incass\":               [0.44,1,1,0.1,0.84],\n",
    "        \"011_2_Postanovka_Yar_not_incass\":           [0,0,0,0.43,0.84]}  "
   ]
  },
  {
   "cell_type": "code",
   "execution_count": 3,
   "id": "b29d2c88-0124-4503-90d9-737ce92bb74c",
   "metadata": {
    "scrolled": true
   },
   "outputs": [],
   "source": [
    "classes=('collector_black_case',\n",
    " 'collector_case',\n",
    " 'collector_no_case',\n",
    " 'person',\n",
    " 'undefined')"
   ]
  },
  {
   "cell_type": "code",
   "execution_count": 22,
   "id": "b9f0cd1a-7a28-45f1-9073-0d45d0d06fda",
   "metadata": {},
   "outputs": [],
   "source": [
    "def safe_createdir(directory):\n",
    "    if not os.path.exists(directory):\n",
    "        os.makedirs(directory)"
   ]
  },
  {
   "cell_type": "code",
   "execution_count": 29,
   "id": "4eacdc7e-e0a1-42b0-9dca-4418db17897c",
   "metadata": {},
   "outputs": [],
   "source": [
    "src=\"/home/arch/Documents/project/angel/image_classification/dataset/prepare_data\"\n",
    "dst = \"/home/arch/Documents/project/angel/image_classification/dataset/trains/002_train_may_2023/train_set\"\n",
    "\n",
    "for k,v in slovar.items():\n",
    "    collection = os.path.join(src,k)\n",
    "    for idx,c in enumerate(classes):\n",
    "        pth_to_collection = os.path.join(collection,\"sorted\",c)\n",
    "        list_imgs=os.listdir(pth_to_collection)\n",
    "        amount=int(len(list_imgs)*v[idx])\n",
    "\n",
    "        random.seed(1234)\n",
    "        list_imgs=random.sample(list_imgs, k=amount)\n",
    "\n",
    "        # print(f\"{k} {c} {list_imgs} \\n\")\n",
    "        for one_img_name in list_imgs:\n",
    "            src_img = os.path.join(pth_to_collection,one_img_name)\n",
    "            dst_pth_partly = os.path.join(dst,k,c)\n",
    "            safe_createdir(dst_pth_partly)\n",
    "            dst_img = os.path.join(dst_pth_partly,one_img_name)\n",
    "            # print(f\"dst_img {dst_img} \")\n",
    "            shutil.copy(src_img,dst_img)"
   ]
  },
  {
   "cell_type": "code",
   "execution_count": null,
   "id": "0797f8b5-460b-4588-888d-54bd28606964",
   "metadata": {},
   "outputs": [],
   "source": []
  },
  {
   "cell_type": "markdown",
   "id": "d559f8b6-3cad-4e9e-9684-96e9b5e149ed",
   "metadata": {},
   "source": [
    "# Test"
   ]
  },
  {
   "cell_type": "code",
   "execution_count": 10,
   "id": "19578b1d-855d-43e5-8060-137c35d26305",
   "metadata": {},
   "outputs": [],
   "source": [
    "import os\n",
    "import random\n",
    "import pathlib\n",
    "import shutil"
   ]
  },
  {
   "cell_type": "code",
   "execution_count": 11,
   "id": "1f26e24c-5f59-4e20-8a78-04cf7962f43c",
   "metadata": {},
   "outputs": [],
   "source": [
    "slovar={\"002_out_car_incass_DONE!\":                 [1,1,1,0.1,0.3],\n",
    "        \"003_ift_stand_inside_car_DONE!\":           [1,1,0.015,0.1,0.1],\n",
    "        \"004_ift_stand_outside_car_DONE!\":          [1,1,0.3,0.1,0.07],\n",
    "        \"005_ift_inside_and_outside_part_I_DONE!\":  [1,1,0.03,0.02,0.07],\n",
    "        \"013_colecting_for_test\":                   [1,1,0.5,0.2,0]}"
   ]
  },
  {
   "cell_type": "code",
   "execution_count": 12,
   "id": "72c7d510-6794-40ad-8538-679ca6009aea",
   "metadata": {},
   "outputs": [],
   "source": [
    "classes=('collector_black_case',\n",
    " 'collector_case',\n",
    " 'collector_no_case',\n",
    " 'person',\n",
    " 'undefined')"
   ]
  },
  {
   "cell_type": "code",
   "execution_count": 13,
   "id": "0339d097-9f20-4ad0-9462-883d6b171641",
   "metadata": {
    "scrolled": true
   },
   "outputs": [],
   "source": [
    "def safe_createdir(directory):\n",
    "    if not os.path.exists(directory):\n",
    "        os.makedirs(directory)"
   ]
  },
  {
   "cell_type": "code",
   "execution_count": 14,
   "id": "c7a701b2-070f-44f9-b04e-82aafd39697a",
   "metadata": {},
   "outputs": [],
   "source": [
    "src=\"/home/arch/Documents/project/angel/image_classification/dataset/prepare_data\"\n",
    "dst = \"/home/arch/Documents/project/angel/image_classification/dataset/trains/002_train_may_2023/test_set\"\n",
    "\n",
    "for k,v in slovar.items():\n",
    "    collection = os.path.join(src,k)\n",
    "    for idx,c in enumerate(classes):\n",
    "        pth_to_collection = os.path.join(collection,\"sorted\",c)\n",
    "        list_imgs=os.listdir(pth_to_collection)\n",
    "        amount=int(len(list_imgs)*v[idx])\n",
    "\n",
    "        random.seed(1234)\n",
    "        list_imgs=random.sample(list_imgs, k=amount)\n",
    "\n",
    "        # print(f\"{k} {c} {list_imgs} \\n\")\n",
    "        for one_img_name in list_imgs:\n",
    "            src_img = os.path.join(pth_to_collection,one_img_name)\n",
    "            dst_pth_partly = os.path.join(dst,k,c)\n",
    "            safe_createdir(dst_pth_partly)\n",
    "            dst_img = os.path.join(dst_pth_partly,one_img_name)\n",
    "            # print(f\"dst_img {dst_img} \")\n",
    "            shutil.copy(src_img,dst_img)"
   ]
  },
  {
   "cell_type": "code",
   "execution_count": null,
   "id": "916e0e58-a90e-415d-8146-ec9c9d6c2844",
   "metadata": {},
   "outputs": [],
   "source": []
  }
 ],
 "metadata": {
  "kernelspec": {
   "display_name": "Python 3 (ipykernel)",
   "language": "python",
   "name": "python3"
  },
  "language_info": {
   "codemirror_mode": {
    "name": "ipython",
    "version": 3
   },
   "file_extension": ".py",
   "mimetype": "text/x-python",
   "name": "python",
   "nbconvert_exporter": "python",
   "pygments_lexer": "ipython3",
   "version": "3.8.10"
  }
 },
 "nbformat": 4,
 "nbformat_minor": 5
}
