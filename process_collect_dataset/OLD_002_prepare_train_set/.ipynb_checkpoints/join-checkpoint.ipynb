{
 "cells": [
  {
   "cell_type": "code",
   "execution_count": 1,
   "id": "a6d44c2d-e358-4edb-857f-16da9c57c522",
   "metadata": {},
   "outputs": [],
   "source": [
    "import os\n",
    "import shutil"
   ]
  },
  {
   "cell_type": "code",
   "execution_count": 2,
   "id": "c43711eb-1f38-43b7-ae42-0a8ef8634886",
   "metadata": {},
   "outputs": [],
   "source": [
    "classes=('collector_black_case',\n",
    " 'collector_case',\n",
    " 'collector_no_case',\n",
    " 'person',\n",
    " 'undefined')"
   ]
  },
  {
   "cell_type": "code",
   "execution_count": 3,
   "id": "6ce15c05-d0bc-4991-bd10-76e521d9d795",
   "metadata": {},
   "outputs": [],
   "source": [
    "def safe_createdir(directory):\n",
    "    if not os.path.exists(directory):\n",
    "        os.makedirs(directory)"
   ]
  },
  {
   "cell_type": "code",
   "execution_count": 7,
   "id": "c0563e05-a162-44dd-9730-5cd83501a72c",
   "metadata": {},
   "outputs": [],
   "source": [
    "src_train=\"/home/arch/Documents/project/angel/image_classification/dataset/trains/002_train_may_2023/test_set\"\n",
    "dst = \"/home/arch/Documents/project/angel/image_classification/dataset/trains/002_train_may_2023/for_train/test\"\n",
    "\n",
    "\n",
    "for name_dir in os.listdir(src_train):\n",
    "    for cl in classes:\n",
    "        tmp_src=os.path.join(src_train,name_dir,cl)\n",
    "        if not os.path.exists(tmp_src):\n",
    "            continue\n",
    "        for img_name in os.listdir(tmp_src):\n",
    "            ful_img_src = os.path.join(tmp_src,img_name)\n",
    "            safe_createdir(os.path.join(dst,cl))\n",
    "            ful_img_dst = os.path.join(dst,cl,img_name)\n",
    "            \n",
    "            shutil.copy(ful_img_src,ful_img_dst)"
   ]
  },
  {
   "cell_type": "code",
   "execution_count": null,
   "id": "aaa714af-54ef-4c05-bbff-16f863f8c6b5",
   "metadata": {},
   "outputs": [],
   "source": []
  },
  {
   "cell_type": "code",
   "execution_count": null,
   "id": "d83015eb-71cb-416d-9543-feebf61ff0b2",
   "metadata": {},
   "outputs": [],
   "source": [
    "a=\"/home/arch/Documents/project/angel/image_classification/dataset/trains/002_train_may_2023/002_train_incass_clasif/train\"\n",
    "b=\"/home/arch/Documents/project/angel/image_classification/dataset/trains/002_train_may_2023/002_train_incass_clasif/test\""
   ]
  },
  {
   "cell_type": "code",
   "execution_count": null,
   "id": "f3f864cf-ab65-4a74-b9dc-f571425df348",
   "metadata": {},
   "outputs": [],
   "source": []
  },
  {
   "cell_type": "code",
   "execution_count": null,
   "id": "6e576bc2-532b-46f1-b7da-0146bd20fc9a",
   "metadata": {},
   "outputs": [],
   "source": [
    "os.listdir(a)==os.listdir(b)"
   ]
  },
  {
   "cell_type": "code",
   "execution_count": null,
   "id": "5450c786-8b00-4a23-8c6c-5df82351bbab",
   "metadata": {},
   "outputs": [],
   "source": []
  }
 ],
 "metadata": {
  "kernelspec": {
   "display_name": "Python 3 (ipykernel)",
   "language": "python",
   "name": "python3"
  },
  "language_info": {
   "codemirror_mode": {
    "name": "ipython",
    "version": 3
   },
   "file_extension": ".py",
   "mimetype": "text/x-python",
   "name": "python",
   "nbconvert_exporter": "python",
   "pygments_lexer": "ipython3",
   "version": "3.8.10"
  }
 },
 "nbformat": 4,
 "nbformat_minor": 5
}
