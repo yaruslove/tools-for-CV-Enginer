{
 "cells": [
  {
   "cell_type": "code",
   "execution_count": 7,
   "id": "cde5ab24-672d-4206-bd25-f379ba3a8776",
   "metadata": {},
   "outputs": [],
   "source": [
    "import cv2 as cv\n",
    "import numpy as np\n",
    "import torch\n",
    "\n",
    "def mask2polygon(mask):\n",
    "    mask=mask.astype(\"uint8\")\n",
    "    # mask=mask.astype(\"uint16\")\n",
    "    # mask=mask.astype(np.uint16)\n",
    "\n",
    "    # show_NympyMask(mask)\n",
    "    # print(f\"mask.max() {mask.max()}\")\n",
    "\n",
    "    contours, hierarchy = cv.findContours(mask, cv.RETR_TREE, cv.CHAIN_APPROX_SIMPLE) # im2, contours, hierarchy\n",
    "    # print(f\"contours len {len(contours)}\")\n",
    "    if len(contours)==0:\n",
    "        return 0\n",
    "    contours = contours[0]\n",
    "    \n",
    "    ### reduce amount point counturs\n",
    "    peri = cv.arcLength(contours, True)\n",
    "    eps = 0.006\n",
    "    smother=eps*peri\n",
    "    contours = cv.approxPolyDP(contours,smother, True)\n",
    "    \n",
    "    size = contours.shape[0]\n",
    "    polygon = contours.reshape(size,2)\n",
    "    \n",
    "    return polygon\n",
    "\n",
    "def polyg_relatived(polygon, resolution):\n",
    "    polygon=np.float32(polygon)\n",
    "    polygon[:,:1]=polygon[:,:1]/resolution[1]*100\n",
    "    polygon[:,1:]=polygon[:,1:]/resolution[0]*100\n",
    "    polygon=[xi.tolist() for xi in polygon]\n",
    "    return polygon\n",
    "\n",
    "\n",
    "##MY\n",
    "def get_mask_byID(result, idx):\n",
    "    # mask_np=results[0].masks.to().data[idx]\n",
    "    mask_np=result.masks.to().data[idx]\n",
    "    mask_np=mask_np.cpu().detach().numpy()\n",
    "    return mask_np\n",
    "def apply_mask(image, mask):\n",
    "    \"\"\"\n",
    "    Cut image by mask\n",
    "    \"\"\"\n",
    "    # Convert to numpy arrays\n",
    "    image = np.array(image)\n",
    "    mask = np.array(mask)\n",
    "    # Convert grayscale image to RGB\n",
    "    mask = np.stack((mask,)*3, axis=-1)\n",
    "    # Multiply arrays\n",
    "    resultant = image*mask\n",
    "    return resultant\n",
    "\n",
    "\n",
    "def resize_mask(mask_np, result):\n",
    "    ## Get image size to resize mask back\n",
    "    orig_h,orig_w=result.orig_shape\n",
    "    size_orig=(orig_w,orig_h)\n",
    "\n",
    "    ### Resize mask to initiale image size\n",
    "    mask_np = cv2.resize(mask_np, size_orig, interpolation = cv2.INTER_AREA)\n",
    "    return mask_np\n",
    "\n",
    "\n",
    "def first_not_zero(zero_np):\n",
    "    zero_np_sumed = zero_np.sum(axis=1) \n",
    "    zero_np_sumed\n",
    "    return (zero_np_sumed !=0).argmax()\n",
    "\n",
    "def last_not_zero(zero_np):\n",
    "    zero_np_sumed = zero_np.sum(axis=1) \n",
    "    zero_np_sumed\n",
    "    return np.max(np.nonzero(zero_np_sumed))\n",
    "\n",
    "def slice_non_zero(masks):\n",
    "    h,w=int(masks[0].shape[0]), int(masks[0].shape[1])\n",
    "    zero=torch.zeros(h, w)\n",
    "    for m in masks:\n",
    "        zero=zero+m\n",
    "    zero_np = zero.numpy()\n",
    "    \n",
    "    fnz=first_not_zero(zero_np)\n",
    "    lnz=last_not_zero(zero_np)\n",
    "    return (fnz,lnz)\n",
    "\n",
    "\n",
    "def get_box_byID(result, idx):\n",
    "    \"\"\"\n",
    "    Get box from yolo segmentation results\n",
    "    \"\"\"\n",
    "    xyxy=result.boxes.xyxy[idx].cpu().detach().numpy()\n",
    "    return xyxy.astype('int32')\n",
    "\n",
    "\n",
    "def crop_box_xyxy(img, xyxy):\n",
    "    \"\"\"\n",
    "    Crop image by xyxy bounding box\n",
    "    \"\"\"\n",
    "    x1,y1,x2,y2=xyxy\n",
    "    cropped = np.copy(img[y1:y2,  x1:x2,  :])\n",
    "    return cropped\n",
    "\n",
    "\n",
    "def basename_ext(pth_img):\n",
    "    base_name = os.path.basename(pth_img)\n",
    "    point = base_name.find(\".\")\n",
    "    ext = base_name[point:]\n",
    "    base_name = base_name[:point]\n",
    "    \n",
    "    return base_name, ext\n",
    "\n",
    "def safly_create_dir(path):\n",
    "    if not os.path.exists(path):\n",
    "        os.mkdir(path)"
   ]
  },
  {
   "cell_type": "code",
   "execution_count": 8,
   "id": "6f2d11ed-1e24-49d7-ba6c-1e55f2d6b2a7",
   "metadata": {},
   "outputs": [],
   "source": [
    "import os\n",
    "import cv2\n",
    "from ultralytics import YOLO\n",
    "from PIL import Image\n",
    "\n",
    "import matplotlib.pyplot as plt\n",
    "\n",
    "class YoloSeg2cutted_image:\n",
    "    def __init__(self, weight_model):\n",
    "        self.model = YOLO(weight_model)\n",
    "        self.classes = self.model.names\n",
    "\n",
    "    def get_labels(self, pth_imgs, pth_out):\n",
    "        \n",
    "        for pth_img in os.listdir(pth_imgs):\n",
    "\n",
    "            base_name, ext=basename_ext(pth_img)\n",
    "            \n",
    "            pth_img_ful = os.path.join(pth_imgs,pth_img)\n",
    "            image = cv2.imread(pth_img_ful)\n",
    "            h_orig,w_orig,_=image.shape\n",
    "            resolution_label = (h_orig,w_orig)\n",
    "            print(f\"resolution_label {resolution_label}\")\n",
    "\n",
    "            # inference model # TODO be attentive about retina_masks=True \n",
    "            retina_masks=True \n",
    "            result=self.model(image, iou=0.35, conf=0.2, retina_masks=retina_masks )[0] # retina_masks=True\n",
    "\n",
    "            # There are paddind, therefore we need to crop it\n",
    "            if retina_masks==False: \n",
    "                fnz,lnz =slice_non_zero(result.masks.data) # # TODO uncoment insted prevuios string\n",
    "                # fnz,lnz =  12,371 #  slice_non_zero(result.masks.data) # TODO check\n",
    "                val_crop=(fnz,lnz)\n",
    "                print(f\"val_crop {val_crop}\")\n",
    "            \n",
    "\n",
    "            amount_masks=len(result.masks.data)\n",
    "\n",
    "            img_np= np.copy(result.orig_img)\n",
    "\n",
    "            for idx_mask, cls in zip(range(amount_masks), result.boxes.cls):\n",
    "                cls=int(cls)\n",
    "                # val_crop attribute => crop slice because of padding\n",
    "                mask_np=get_mask_byID(result, idx_mask)\n",
    "                \n",
    "                # TODO del because of padding\n",
    "                if retina_masks==False:   # fnz,lnz = val_crop\n",
    "                    mask_np = mask_np[fnz:lnz,:]\n",
    "\n",
    "                mask_np = resize_mask(mask_np, result)\n",
    "\n",
    "                ## Cut image by mask\n",
    "                img_np_addMask=apply_mask(img_np, mask_np)\n",
    "\n",
    "                ## Get box\n",
    "                xyxy=get_box_byID(result,idx_mask)\n",
    "                \n",
    "                ## Crop by box\n",
    "                img_np_cropBox=crop_box_xyxy(img_np_addMask,xyxy)\n",
    "                w_crp,h_crp,_ = img_np_cropBox.shape\n",
    "                if min(w_crp,h_crp) < 60:\n",
    "                    continue\n",
    "\n",
    "                class_box = str(self.classes[int(result.boxes.cls[idx_mask])])\n",
    "                path_dir = os.path.join(pth_out, class_box)\n",
    "                safly_create_dir(path_dir)\n",
    "                pth_out_img = os.path.join(path_dir, f\"{base_name}_{str(idx_mask)}{ext}\") # {class_box}_\n",
    "                cv2.imwrite(pth_out_img, img_np_cropBox)\n",
    "\n",
    "            # print(f\"result.orig_shape {result.orig_shape}\")\n",
    "\n",
    "        # return list_main_part"
   ]
  },
  {
   "cell_type": "code",
   "execution_count": 9,
   "id": "ad7f2c01-73a7-4cea-a765-7d470c685ec9",
   "metadata": {
    "scrolled": true
   },
   "outputs": [
    {
     "name": "stderr",
     "output_type": "stream",
     "text": [
      "\n"
     ]
    },
    {
     "name": "stdout",
     "output_type": "stream",
     "text": [
      "resolution_label (1520, 2704)\n"
     ]
    },
    {
     "name": "stderr",
     "output_type": "stream",
     "text": [
      "0: 832x1440 112 leafs, 10 stems, 16 tomatos, 367.1ms\n",
      "Speed: 7.9ms preprocess, 367.1ms inference, 544.6ms postprocess per image at shape (1, 3, 832, 1440)\n",
      "\n"
     ]
    },
    {
     "name": "stdout",
     "output_type": "stream",
     "text": [
      "resolution_label (1520, 2704)\n"
     ]
    },
    {
     "name": "stderr",
     "output_type": "stream",
     "text": [
      "0: 832x1440 130 leafs, 2 stems, 18 tomatos, 329.9ms\n",
      "Speed: 5.9ms preprocess, 329.9ms inference, 1500.9ms postprocess per image at shape (1, 3, 832, 1440)\n",
      "\n"
     ]
    },
    {
     "name": "stdout",
     "output_type": "stream",
     "text": [
      "resolution_label (1520, 2704)\n"
     ]
    },
    {
     "name": "stderr",
     "output_type": "stream",
     "text": [
      "0: 832x1440 113 leafs, 8 stems, 20 tomatos, 339.4ms\n",
      "Speed: 6.5ms preprocess, 339.4ms inference, 794.0ms postprocess per image at shape (1, 3, 832, 1440)\n",
      "\n"
     ]
    },
    {
     "name": "stdout",
     "output_type": "stream",
     "text": [
      "resolution_label (1520, 2704)\n"
     ]
    },
    {
     "name": "stderr",
     "output_type": "stream",
     "text": [
      "0: 832x1440 104 leafs, 2 stems, 14 tomatos, 330.2ms\n",
      "Speed: 6.2ms preprocess, 330.2ms inference, 486.2ms postprocess per image at shape (1, 3, 832, 1440)\n",
      "\n"
     ]
    },
    {
     "name": "stdout",
     "output_type": "stream",
     "text": [
      "resolution_label (1520, 2704)\n"
     ]
    },
    {
     "name": "stderr",
     "output_type": "stream",
     "text": [
      "0: 832x1440 135 leafs, 6 stems, 14 tomatos, 331.5ms\n",
      "Speed: 5.9ms preprocess, 331.5ms inference, 999.8ms postprocess per image at shape (1, 3, 832, 1440)\n",
      "\n"
     ]
    },
    {
     "name": "stdout",
     "output_type": "stream",
     "text": [
      "resolution_label (1520, 2704)\n"
     ]
    },
    {
     "name": "stderr",
     "output_type": "stream",
     "text": [
      "0: 832x1440 142 leafs, 14 stems, 10 tomatos, 333.2ms\n",
      "Speed: 6.2ms preprocess, 333.2ms inference, 1172.3ms postprocess per image at shape (1, 3, 832, 1440)\n",
      "\n"
     ]
    },
    {
     "name": "stdout",
     "output_type": "stream",
     "text": [
      "resolution_label (1520, 2704)\n"
     ]
    },
    {
     "name": "stderr",
     "output_type": "stream",
     "text": [
      "0: 832x1440 128 leafs, 4 stems, 45 tomatos, 353.4ms\n",
      "Speed: 5.6ms preprocess, 353.4ms inference, 1162.4ms postprocess per image at shape (1, 3, 832, 1440)\n",
      "\n"
     ]
    },
    {
     "name": "stdout",
     "output_type": "stream",
     "text": [
      "resolution_label (1520, 2704)\n"
     ]
    },
    {
     "name": "stderr",
     "output_type": "stream",
     "text": [
      "0: 832x1440 118 leafs, 8 stems, 15 tomatos, 375.9ms\n",
      "Speed: 6.1ms preprocess, 375.9ms inference, 741.6ms postprocess per image at shape (1, 3, 832, 1440)\n",
      "\n"
     ]
    },
    {
     "name": "stdout",
     "output_type": "stream",
     "text": [
      "resolution_label (1520, 2704)\n"
     ]
    },
    {
     "name": "stderr",
     "output_type": "stream",
     "text": [
      "0: 832x1440 134 leafs, 8 stems, 19 tomatos, 330.4ms\n",
      "Speed: 5.7ms preprocess, 330.4ms inference, 882.9ms postprocess per image at shape (1, 3, 832, 1440)\n",
      "\n"
     ]
    },
    {
     "name": "stdout",
     "output_type": "stream",
     "text": [
      "resolution_label (1520, 2704)\n"
     ]
    },
    {
     "name": "stderr",
     "output_type": "stream",
     "text": [
      "0: 832x1440 123 leafs, 7 stems, 22 tomatos, 344.0ms\n",
      "Speed: 6.1ms preprocess, 344.0ms inference, 786.2ms postprocess per image at shape (1, 3, 832, 1440)\n",
      "\n"
     ]
    },
    {
     "name": "stdout",
     "output_type": "stream",
     "text": [
      "resolution_label (1520, 2704)\n"
     ]
    },
    {
     "name": "stderr",
     "output_type": "stream",
     "text": [
      "0: 832x1440 157 leafs, 10 stems, 26 tomatos, 347.1ms\n",
      "Speed: 5.9ms preprocess, 347.1ms inference, 1360.5ms postprocess per image at shape (1, 3, 832, 1440)\n",
      "\n"
     ]
    },
    {
     "name": "stdout",
     "output_type": "stream",
     "text": [
      "resolution_label (1520, 2704)\n"
     ]
    },
    {
     "name": "stderr",
     "output_type": "stream",
     "text": [
      "0: 832x1440 125 leafs, 6 stems, 16 tomatos, 342.6ms\n",
      "Speed: 5.5ms preprocess, 342.6ms inference, 797.3ms postprocess per image at shape (1, 3, 832, 1440)\n",
      "\n"
     ]
    },
    {
     "name": "stdout",
     "output_type": "stream",
     "text": [
      "resolution_label (1520, 2704)\n"
     ]
    },
    {
     "name": "stderr",
     "output_type": "stream",
     "text": [
      "0: 832x1440 119 leafs, 3 stems, 14 tomatos, 342.8ms\n",
      "Speed: 5.5ms preprocess, 342.8ms inference, 550.1ms postprocess per image at shape (1, 3, 832, 1440)\n",
      "\n"
     ]
    },
    {
     "name": "stdout",
     "output_type": "stream",
     "text": [
      "resolution_label (1520, 2704)\n"
     ]
    },
    {
     "name": "stderr",
     "output_type": "stream",
     "text": [
      "0: 832x1440 114 leafs, 8 stems, 99 tomatos, 341.6ms\n",
      "Speed: 6.3ms preprocess, 341.6ms inference, 2549.2ms postprocess per image at shape (1, 3, 832, 1440)\n",
      "\n"
     ]
    },
    {
     "name": "stdout",
     "output_type": "stream",
     "text": [
      "resolution_label (1520, 2704)\n"
     ]
    },
    {
     "name": "stderr",
     "output_type": "stream",
     "text": [
      "0: 832x1440 137 leafs, 4 stems, 23 tomatos, 345.3ms\n",
      "Speed: 5.7ms preprocess, 345.3ms inference, 936.5ms postprocess per image at shape (1, 3, 832, 1440)\n",
      "\n"
     ]
    },
    {
     "name": "stdout",
     "output_type": "stream",
     "text": [
      "resolution_label (1520, 2704)\n"
     ]
    },
    {
     "name": "stderr",
     "output_type": "stream",
     "text": [
      "0: 832x1440 139 leafs, 8 stems, 22 tomatos, 345.9ms\n",
      "Speed: 6.4ms preprocess, 345.9ms inference, 685.3ms postprocess per image at shape (1, 3, 832, 1440)\n",
      "\n"
     ]
    },
    {
     "name": "stdout",
     "output_type": "stream",
     "text": [
      "resolution_label (1520, 2704)\n"
     ]
    },
    {
     "name": "stderr",
     "output_type": "stream",
     "text": [
      "0: 832x1440 109 leafs, 11 stems, 8 tomatos, 328.1ms\n",
      "Speed: 6.0ms preprocess, 328.1ms inference, 533.5ms postprocess per image at shape (1, 3, 832, 1440)\n",
      "\n"
     ]
    },
    {
     "name": "stdout",
     "output_type": "stream",
     "text": [
      "resolution_label (1520, 2704)\n"
     ]
    },
    {
     "name": "stderr",
     "output_type": "stream",
     "text": [
      "0: 832x1440 129 leafs, 8 stems, 29 tomatos, 336.1ms\n",
      "Speed: 5.8ms preprocess, 336.1ms inference, 700.7ms postprocess per image at shape (1, 3, 832, 1440)\n",
      "\n"
     ]
    },
    {
     "name": "stdout",
     "output_type": "stream",
     "text": [
      "resolution_label (1520, 2704)\n"
     ]
    },
    {
     "name": "stderr",
     "output_type": "stream",
     "text": [
      "0: 832x1440 146 leafs, 8 stems, 30 tomatos, 338.8ms\n",
      "Speed: 5.8ms preprocess, 338.8ms inference, 1098.7ms postprocess per image at shape (1, 3, 832, 1440)\n",
      "\n"
     ]
    },
    {
     "name": "stdout",
     "output_type": "stream",
     "text": [
      "resolution_label (1520, 2704)\n"
     ]
    },
    {
     "name": "stderr",
     "output_type": "stream",
     "text": [
      "0: 832x1440 129 leafs, 6 stems, 26 tomatos, 337.2ms\n",
      "Speed: 6.9ms preprocess, 337.2ms inference, 782.4ms postprocess per image at shape (1, 3, 832, 1440)\n",
      "\n"
     ]
    },
    {
     "name": "stdout",
     "output_type": "stream",
     "text": [
      "resolution_label (1520, 2704)\n"
     ]
    },
    {
     "name": "stderr",
     "output_type": "stream",
     "text": [
      "0: 832x1440 131 leafs, 12 stems, 23 tomatos, 332.2ms\n",
      "Speed: 5.9ms preprocess, 332.2ms inference, 790.5ms postprocess per image at shape (1, 3, 832, 1440)\n",
      "\n"
     ]
    },
    {
     "name": "stdout",
     "output_type": "stream",
     "text": [
      "resolution_label (1520, 2704)\n"
     ]
    },
    {
     "name": "stderr",
     "output_type": "stream",
     "text": [
      "0: 832x1440 110 leafs, 8 stems, 11 tomatos, 334.0ms\n",
      "Speed: 6.1ms preprocess, 334.0ms inference, 507.2ms postprocess per image at shape (1, 3, 832, 1440)\n",
      "\n"
     ]
    },
    {
     "name": "stdout",
     "output_type": "stream",
     "text": [
      "resolution_label (1520, 2704)\n"
     ]
    },
    {
     "name": "stderr",
     "output_type": "stream",
     "text": [
      "0: 832x1440 146 leafs, 7 stems, 33 tomatos, 331.0ms\n",
      "Speed: 5.8ms preprocess, 331.0ms inference, 1259.5ms postprocess per image at shape (1, 3, 832, 1440)\n",
      "\n"
     ]
    },
    {
     "name": "stdout",
     "output_type": "stream",
     "text": [
      "resolution_label (1520, 2704)\n"
     ]
    },
    {
     "name": "stderr",
     "output_type": "stream",
     "text": [
      "0: 832x1440 150 leafs, 7 stems, 36 tomatos, 332.8ms\n",
      "Speed: 6.1ms preprocess, 332.8ms inference, 1733.0ms postprocess per image at shape (1, 3, 832, 1440)\n",
      "\n"
     ]
    },
    {
     "name": "stdout",
     "output_type": "stream",
     "text": [
      "resolution_label (1520, 2704)\n"
     ]
    },
    {
     "name": "stderr",
     "output_type": "stream",
     "text": [
      "0: 832x1440 126 leafs, 10 stems, 21 tomatos, 333.2ms\n",
      "Speed: 6.0ms preprocess, 333.2ms inference, 665.0ms postprocess per image at shape (1, 3, 832, 1440)\n",
      "\n"
     ]
    },
    {
     "name": "stdout",
     "output_type": "stream",
     "text": [
      "resolution_label (1520, 2704)\n"
     ]
    },
    {
     "name": "stderr",
     "output_type": "stream",
     "text": [
      "0: 832x1440 106 leafs, 14 stems, 123 tomatos, 330.2ms\n",
      "Speed: 6.4ms preprocess, 330.2ms inference, 1639.5ms postprocess per image at shape (1, 3, 832, 1440)\n",
      "\n"
     ]
    },
    {
     "name": "stdout",
     "output_type": "stream",
     "text": [
      "resolution_label (1520, 2704)\n"
     ]
    },
    {
     "name": "stderr",
     "output_type": "stream",
     "text": [
      "0: 832x1440 133 leafs, 8 stems, 12 tomatos, 345.2ms\n",
      "Speed: 6.1ms preprocess, 345.2ms inference, 587.0ms postprocess per image at shape (1, 3, 832, 1440)\n",
      "\n"
     ]
    },
    {
     "name": "stdout",
     "output_type": "stream",
     "text": [
      "resolution_label (1520, 2704)\n"
     ]
    },
    {
     "name": "stderr",
     "output_type": "stream",
     "text": [
      "0: 832x1440 105 leafs, 3 stems, 13 tomatos, 343.3ms\n",
      "Speed: 6.5ms preprocess, 343.3ms inference, 512.4ms postprocess per image at shape (1, 3, 832, 1440)\n",
      "\n"
     ]
    },
    {
     "name": "stdout",
     "output_type": "stream",
     "text": [
      "resolution_label (1520, 2704)\n"
     ]
    },
    {
     "name": "stderr",
     "output_type": "stream",
     "text": [
      "0: 832x1440 144 leafs, 10 stems, 22 tomatos, 338.8ms\n",
      "Speed: 6.1ms preprocess, 338.8ms inference, 713.1ms postprocess per image at shape (1, 3, 832, 1440)\n",
      "\n"
     ]
    },
    {
     "name": "stdout",
     "output_type": "stream",
     "text": [
      "resolution_label (1520, 2704)\n"
     ]
    },
    {
     "name": "stderr",
     "output_type": "stream",
     "text": [
      "0: 832x1440 140 leafs, 7 stems, 17 tomatos, 343.3ms\n",
      "Speed: 6.0ms preprocess, 343.3ms inference, 702.1ms postprocess per image at shape (1, 3, 832, 1440)\n",
      "\n"
     ]
    },
    {
     "name": "stdout",
     "output_type": "stream",
     "text": [
      "resolution_label (1520, 2704)\n"
     ]
    },
    {
     "name": "stderr",
     "output_type": "stream",
     "text": [
      "0: 832x1440 158 leafs, 8 stems, 25 tomatos, 322.1ms\n",
      "Speed: 5.9ms preprocess, 322.1ms inference, 1157.3ms postprocess per image at shape (1, 3, 832, 1440)\n",
      "\n"
     ]
    },
    {
     "name": "stdout",
     "output_type": "stream",
     "text": [
      "resolution_label (1520, 2704)\n"
     ]
    },
    {
     "name": "stderr",
     "output_type": "stream",
     "text": [
      "0: 832x1440 136 leafs, 5 stems, 29 tomatos, 334.8ms\n",
      "Speed: 5.7ms preprocess, 334.8ms inference, 841.7ms postprocess per image at shape (1, 3, 832, 1440)\n",
      "\n"
     ]
    },
    {
     "name": "stdout",
     "output_type": "stream",
     "text": [
      "resolution_label (1520, 2704)\n"
     ]
    },
    {
     "name": "stderr",
     "output_type": "stream",
     "text": [
      "0: 832x1440 131 leafs, 4 stems, 17 tomatos, 337.1ms\n",
      "Speed: 5.3ms preprocess, 337.1ms inference, 647.8ms postprocess per image at shape (1, 3, 832, 1440)\n",
      "\n"
     ]
    },
    {
     "name": "stdout",
     "output_type": "stream",
     "text": [
      "resolution_label (1520, 2704)\n"
     ]
    },
    {
     "name": "stderr",
     "output_type": "stream",
     "text": [
      "0: 832x1440 107 leafs, 9 stems, 11 tomatos, 339.8ms\n",
      "Speed: 6.1ms preprocess, 339.8ms inference, 584.9ms postprocess per image at shape (1, 3, 832, 1440)\n",
      "\n"
     ]
    },
    {
     "name": "stdout",
     "output_type": "stream",
     "text": [
      "resolution_label (1520, 2704)\n"
     ]
    },
    {
     "name": "stderr",
     "output_type": "stream",
     "text": [
      "0: 832x1440 130 leafs, 8 stems, 21 tomatos, 325.7ms\n",
      "Speed: 6.2ms preprocess, 325.7ms inference, 640.5ms postprocess per image at shape (1, 3, 832, 1440)\n",
      "\n"
     ]
    },
    {
     "name": "stdout",
     "output_type": "stream",
     "text": [
      "resolution_label (1520, 2704)\n"
     ]
    },
    {
     "name": "stderr",
     "output_type": "stream",
     "text": [
      "0: 832x1440 129 leafs, 8 stems, 24 tomatos, 327.5ms\n",
      "Speed: 6.2ms preprocess, 327.5ms inference, 668.9ms postprocess per image at shape (1, 3, 832, 1440)\n",
      "\n"
     ]
    },
    {
     "name": "stdout",
     "output_type": "stream",
     "text": [
      "resolution_label (1520, 2704)\n"
     ]
    },
    {
     "name": "stderr",
     "output_type": "stream",
     "text": [
      "0: 832x1440 137 leafs, 4 stems, 33 tomatos, 334.1ms\n",
      "Speed: 5.9ms preprocess, 334.1ms inference, 970.3ms postprocess per image at shape (1, 3, 832, 1440)\n",
      "\n"
     ]
    },
    {
     "name": "stdout",
     "output_type": "stream",
     "text": [
      "resolution_label (1520, 2704)\n"
     ]
    },
    {
     "name": "stderr",
     "output_type": "stream",
     "text": [
      "0: 832x1440 127 leafs, 10 stems, 20 tomatos, 333.4ms\n",
      "Speed: 6.3ms preprocess, 333.4ms inference, 665.8ms postprocess per image at shape (1, 3, 832, 1440)\n",
      "\n"
     ]
    },
    {
     "name": "stdout",
     "output_type": "stream",
     "text": [
      "resolution_label (1520, 2704)\n"
     ]
    },
    {
     "name": "stderr",
     "output_type": "stream",
     "text": [
      "0: 832x1440 137 leafs, 5 stems, 13 tomatos, 332.7ms\n",
      "Speed: 5.8ms preprocess, 332.7ms inference, 653.7ms postprocess per image at shape (1, 3, 832, 1440)\n",
      "\n"
     ]
    },
    {
     "name": "stdout",
     "output_type": "stream",
     "text": [
      "resolution_label (1520, 2704)\n"
     ]
    },
    {
     "name": "stderr",
     "output_type": "stream",
     "text": [
      "0: 832x1440 111 leafs, 11 stems, 20 tomatos, 335.1ms\n",
      "Speed: 6.1ms preprocess, 335.1ms inference, 576.7ms postprocess per image at shape (1, 3, 832, 1440)\n",
      "\n"
     ]
    },
    {
     "name": "stdout",
     "output_type": "stream",
     "text": [
      "resolution_label (1520, 2704)\n"
     ]
    },
    {
     "name": "stderr",
     "output_type": "stream",
     "text": [
      "0: 832x1440 136 leafs, 6 stems, 20 tomatos, 345.3ms\n",
      "Speed: 6.7ms preprocess, 345.3ms inference, 678.4ms postprocess per image at shape (1, 3, 832, 1440)\n",
      "\n"
     ]
    },
    {
     "name": "stdout",
     "output_type": "stream",
     "text": [
      "resolution_label (1520, 2704)\n"
     ]
    },
    {
     "name": "stderr",
     "output_type": "stream",
     "text": [
      "0: 832x1440 120 leafs, 4 stems, 23 tomatos, 325.3ms\n",
      "Speed: 5.6ms preprocess, 325.3ms inference, 623.2ms postprocess per image at shape (1, 3, 832, 1440)\n",
      "\n"
     ]
    },
    {
     "name": "stdout",
     "output_type": "stream",
     "text": [
      "resolution_label (1520, 2704)\n"
     ]
    },
    {
     "name": "stderr",
     "output_type": "stream",
     "text": [
      "0: 832x1440 143 leafs, 5 stems, 22 tomatos, 337.9ms\n",
      "Speed: 6.0ms preprocess, 337.9ms inference, 858.3ms postprocess per image at shape (1, 3, 832, 1440)\n",
      "\n"
     ]
    },
    {
     "name": "stdout",
     "output_type": "stream",
     "text": [
      "resolution_label (1520, 2704)\n"
     ]
    },
    {
     "name": "stderr",
     "output_type": "stream",
     "text": [
      "0: 832x1440 104 leafs, 7 stems, 13 tomatos, 325.0ms\n",
      "Speed: 6.4ms preprocess, 325.0ms inference, 527.1ms postprocess per image at shape (1, 3, 832, 1440)\n",
      "\n"
     ]
    },
    {
     "name": "stdout",
     "output_type": "stream",
     "text": [
      "resolution_label (1520, 2704)\n"
     ]
    },
    {
     "name": "stderr",
     "output_type": "stream",
     "text": [
      "0: 832x1440 143 leafs, 7 stems, 35 tomatos, 378.1ms\n",
      "Speed: 6.1ms preprocess, 378.1ms inference, 1128.3ms postprocess per image at shape (1, 3, 832, 1440)\n",
      "\n"
     ]
    },
    {
     "name": "stdout",
     "output_type": "stream",
     "text": [
      "resolution_label (1520, 2704)\n"
     ]
    },
    {
     "name": "stderr",
     "output_type": "stream",
     "text": [
      "0: 832x1440 145 leafs, 10 stems, 21 tomatos, 497.6ms\n",
      "Speed: 6.3ms preprocess, 497.6ms inference, 1358.7ms postprocess per image at shape (1, 3, 832, 1440)\n",
      "\n"
     ]
    },
    {
     "name": "stdout",
     "output_type": "stream",
     "text": [
      "resolution_label (1520, 2704)\n"
     ]
    },
    {
     "name": "stderr",
     "output_type": "stream",
     "text": [
      "0: 832x1440 134 leafs, 6 stems, 12 tomatos, 337.2ms\n",
      "Speed: 5.8ms preprocess, 337.2ms inference, 641.0ms postprocess per image at shape (1, 3, 832, 1440)\n",
      "\n"
     ]
    },
    {
     "name": "stdout",
     "output_type": "stream",
     "text": [
      "resolution_label (1520, 2704)\n"
     ]
    },
    {
     "name": "stderr",
     "output_type": "stream",
     "text": [
      "0: 832x1440 124 leafs, 8 stems, 30 tomatos, 357.8ms\n",
      "Speed: 6.2ms preprocess, 357.8ms inference, 729.2ms postprocess per image at shape (1, 3, 832, 1440)\n",
      "\n"
     ]
    },
    {
     "name": "stdout",
     "output_type": "stream",
     "text": [
      "resolution_label (1520, 2704)\n"
     ]
    },
    {
     "name": "stderr",
     "output_type": "stream",
     "text": [
      "0: 832x1440 132 leafs, 9 stems, 18 tomatos, 336.6ms\n",
      "Speed: 5.4ms preprocess, 336.6ms inference, 650.2ms postprocess per image at shape (1, 3, 832, 1440)\n",
      "\n"
     ]
    },
    {
     "name": "stdout",
     "output_type": "stream",
     "text": [
      "resolution_label (1520, 2704)\n"
     ]
    },
    {
     "name": "stderr",
     "output_type": "stream",
     "text": [
      "0: 832x1440 136 leafs, 8 stems, 29 tomatos, 336.1ms\n",
      "Speed: 5.8ms preprocess, 336.1ms inference, 765.5ms postprocess per image at shape (1, 3, 832, 1440)\n",
      "\n"
     ]
    },
    {
     "name": "stdout",
     "output_type": "stream",
     "text": [
      "resolution_label (1520, 2704)\n"
     ]
    },
    {
     "name": "stderr",
     "output_type": "stream",
     "text": [
      "0: 832x1440 118 leafs, 4 stems, 21 tomatos, 330.0ms\n",
      "Speed: 5.8ms preprocess, 330.0ms inference, 576.2ms postprocess per image at shape (1, 3, 832, 1440)\n",
      "\n"
     ]
    },
    {
     "name": "stdout",
     "output_type": "stream",
     "text": [
      "resolution_label (1520, 2704)\n"
     ]
    },
    {
     "name": "stderr",
     "output_type": "stream",
     "text": [
      "0: 832x1440 151 leafs, 11 stems, 15 tomatos, 348.5ms\n",
      "Speed: 6.2ms preprocess, 348.5ms inference, 764.9ms postprocess per image at shape (1, 3, 832, 1440)\n",
      "\n"
     ]
    },
    {
     "name": "stdout",
     "output_type": "stream",
     "text": [
      "resolution_label (1520, 2704)\n"
     ]
    },
    {
     "name": "stderr",
     "output_type": "stream",
     "text": [
      "0: 832x1440 155 leafs, 8 stems, 11 tomatos, 319.5ms\n",
      "Speed: 6.0ms preprocess, 319.5ms inference, 877.0ms postprocess per image at shape (1, 3, 832, 1440)\n",
      "\n"
     ]
    },
    {
     "name": "stdout",
     "output_type": "stream",
     "text": [
      "resolution_label (1520, 2704)\n"
     ]
    },
    {
     "name": "stderr",
     "output_type": "stream",
     "text": [
      "0: 832x1440 158 leafs, 4 stems, 35 tomatos, 329.3ms\n",
      "Speed: 6.2ms preprocess, 329.3ms inference, 1220.4ms postprocess per image at shape (1, 3, 832, 1440)\n",
      "\n"
     ]
    },
    {
     "name": "stdout",
     "output_type": "stream",
     "text": [
      "resolution_label (1520, 2704)\n"
     ]
    },
    {
     "name": "stderr",
     "output_type": "stream",
     "text": [
      "0: 832x1440 157 leafs, 5 stems, 20 tomatos, 326.6ms\n",
      "Speed: 6.0ms preprocess, 326.6ms inference, 1082.6ms postprocess per image at shape (1, 3, 832, 1440)\n",
      "\n"
     ]
    },
    {
     "name": "stdout",
     "output_type": "stream",
     "text": [
      "resolution_label (1520, 2704)\n"
     ]
    },
    {
     "name": "stderr",
     "output_type": "stream",
     "text": [
      "0: 832x1440 132 leafs, 8 stems, 28 tomatos, 347.8ms\n",
      "Speed: 6.3ms preprocess, 347.8ms inference, 795.8ms postprocess per image at shape (1, 3, 832, 1440)\n",
      "\n"
     ]
    },
    {
     "name": "stdout",
     "output_type": "stream",
     "text": [
      "resolution_label (1520, 2704)\n"
     ]
    },
    {
     "name": "stderr",
     "output_type": "stream",
     "text": [
      "0: 832x1440 124 leafs, 3 stems, 36 tomatos, 358.6ms\n",
      "Speed: 6.8ms preprocess, 358.6ms inference, 688.3ms postprocess per image at shape (1, 3, 832, 1440)\n",
      "\n"
     ]
    },
    {
     "name": "stdout",
     "output_type": "stream",
     "text": [
      "resolution_label (1520, 2704)\n"
     ]
    },
    {
     "name": "stderr",
     "output_type": "stream",
     "text": [
      "0: 832x1440 131 leafs, 5 stems, 28 tomatos, 327.4ms\n",
      "Speed: 5.8ms preprocess, 327.4ms inference, 665.5ms postprocess per image at shape (1, 3, 832, 1440)\n",
      "\n"
     ]
    },
    {
     "name": "stdout",
     "output_type": "stream",
     "text": [
      "resolution_label (1520, 2704)\n"
     ]
    },
    {
     "name": "stderr",
     "output_type": "stream",
     "text": [
      "0: 832x1440 155 leafs, 6 stems, 22 tomatos, 332.3ms\n",
      "Speed: 5.5ms preprocess, 332.3ms inference, 847.6ms postprocess per image at shape (1, 3, 832, 1440)\n",
      "\n"
     ]
    },
    {
     "name": "stdout",
     "output_type": "stream",
     "text": [
      "resolution_label (1520, 2704)\n"
     ]
    },
    {
     "name": "stderr",
     "output_type": "stream",
     "text": [
      "0: 832x1440 136 leafs, 4 stems, 14 tomatos, 334.0ms\n",
      "Speed: 6.6ms preprocess, 334.0ms inference, 649.2ms postprocess per image at shape (1, 3, 832, 1440)\n",
      "\n"
     ]
    },
    {
     "name": "stdout",
     "output_type": "stream",
     "text": [
      "resolution_label (1520, 2704)\n"
     ]
    },
    {
     "name": "stderr",
     "output_type": "stream",
     "text": [
      "0: 832x1440 144 leafs, 5 stems, 27 tomatos, 331.6ms\n",
      "Speed: 6.0ms preprocess, 331.6ms inference, 735.8ms postprocess per image at shape (1, 3, 832, 1440)\n",
      "\n"
     ]
    },
    {
     "name": "stdout",
     "output_type": "stream",
     "text": [
      "resolution_label (1520, 2704)\n"
     ]
    },
    {
     "name": "stderr",
     "output_type": "stream",
     "text": [
      "0: 832x1440 145 leafs, 12 stems, 22 tomatos, 333.8ms\n",
      "Speed: 5.9ms preprocess, 333.8ms inference, 1041.5ms postprocess per image at shape (1, 3, 832, 1440)\n",
      "\n"
     ]
    },
    {
     "name": "stdout",
     "output_type": "stream",
     "text": [
      "resolution_label (1520, 2704)\n"
     ]
    },
    {
     "name": "stderr",
     "output_type": "stream",
     "text": [
      "0: 832x1440 117 leafs, 10 stems, 19 tomatos, 336.9ms\n",
      "Speed: 6.6ms preprocess, 336.9ms inference, 578.2ms postprocess per image at shape (1, 3, 832, 1440)\n",
      "\n"
     ]
    },
    {
     "name": "stdout",
     "output_type": "stream",
     "text": [
      "resolution_label (1520, 2704)\n"
     ]
    },
    {
     "name": "stderr",
     "output_type": "stream",
     "text": [
      "0: 832x1440 125 leafs, 9 stems, 13 tomatos, 331.4ms\n",
      "Speed: 5.5ms preprocess, 331.4ms inference, 609.6ms postprocess per image at shape (1, 3, 832, 1440)\n",
      "\n"
     ]
    },
    {
     "name": "stdout",
     "output_type": "stream",
     "text": [
      "resolution_label (1520, 2704)\n"
     ]
    },
    {
     "name": "stderr",
     "output_type": "stream",
     "text": [
      "0: 832x1440 115 leafs, 4 stems, 34 tomatos, 332.9ms\n",
      "Speed: 5.4ms preprocess, 332.9ms inference, 614.2ms postprocess per image at shape (1, 3, 832, 1440)\n",
      "\n"
     ]
    },
    {
     "name": "stdout",
     "output_type": "stream",
     "text": [
      "resolution_label (1520, 2704)\n"
     ]
    },
    {
     "name": "stderr",
     "output_type": "stream",
     "text": [
      "0: 832x1440 154 leafs, 8 stems, 10 tomatos, 331.8ms\n",
      "Speed: 6.2ms preprocess, 331.8ms inference, 709.8ms postprocess per image at shape (1, 3, 832, 1440)\n",
      "\n"
     ]
    },
    {
     "name": "stdout",
     "output_type": "stream",
     "text": [
      "resolution_label (1520, 2704)\n"
     ]
    },
    {
     "name": "stderr",
     "output_type": "stream",
     "text": [
      "0: 832x1440 135 leafs, 8 stems, 21 tomatos, 338.7ms\n",
      "Speed: 5.6ms preprocess, 338.7ms inference, 639.3ms postprocess per image at shape (1, 3, 832, 1440)\n",
      "\n"
     ]
    },
    {
     "name": "stdout",
     "output_type": "stream",
     "text": [
      "resolution_label (1520, 2704)\n"
     ]
    },
    {
     "name": "stderr",
     "output_type": "stream",
     "text": [
      "0: 832x1440 153 leafs, 8 stems, 18 tomatos, 346.7ms\n",
      "Speed: 5.9ms preprocess, 346.7ms inference, 1009.3ms postprocess per image at shape (1, 3, 832, 1440)\n",
      "\n"
     ]
    },
    {
     "name": "stdout",
     "output_type": "stream",
     "text": [
      "resolution_label (1520, 2704)\n"
     ]
    },
    {
     "name": "stderr",
     "output_type": "stream",
     "text": [
      "0: 832x1440 162 leafs, 3 stems, 13 tomatos, 339.0ms\n",
      "Speed: 6.0ms preprocess, 339.0ms inference, 977.1ms postprocess per image at shape (1, 3, 832, 1440)\n",
      "\n"
     ]
    },
    {
     "name": "stdout",
     "output_type": "stream",
     "text": [
      "resolution_label (1520, 2704)\n"
     ]
    },
    {
     "name": "stderr",
     "output_type": "stream",
     "text": [
      "0: 832x1440 147 leafs, 12 stems, 26 tomatos, 339.3ms\n",
      "Speed: 5.9ms preprocess, 339.3ms inference, 1079.1ms postprocess per image at shape (1, 3, 832, 1440)\n",
      "\n"
     ]
    },
    {
     "name": "stdout",
     "output_type": "stream",
     "text": [
      "resolution_label (1520, 2704)\n"
     ]
    },
    {
     "name": "stderr",
     "output_type": "stream",
     "text": [
      "0: 832x1440 150 leafs, 8 stems, 31 tomatos, 352.4ms\n",
      "Speed: 5.7ms preprocess, 352.4ms inference, 1176.0ms postprocess per image at shape (1, 3, 832, 1440)\n",
      "\n"
     ]
    },
    {
     "name": "stdout",
     "output_type": "stream",
     "text": [
      "resolution_label (1520, 2704)\n"
     ]
    },
    {
     "name": "stderr",
     "output_type": "stream",
     "text": [
      "0: 832x1440 132 leafs, 8 stems, 23 tomatos, 335.9ms\n",
      "Speed: 6.0ms preprocess, 335.9ms inference, 806.6ms postprocess per image at shape (1, 3, 832, 1440)\n",
      "\n"
     ]
    },
    {
     "name": "stdout",
     "output_type": "stream",
     "text": [
      "resolution_label (1520, 2704)\n"
     ]
    },
    {
     "name": "stderr",
     "output_type": "stream",
     "text": [
      "0: 832x1440 157 leafs, 5 stems, 26 tomatos, 331.9ms\n",
      "Speed: 5.8ms preprocess, 331.9ms inference, 1078.3ms postprocess per image at shape (1, 3, 832, 1440)\n",
      "\n"
     ]
    },
    {
     "name": "stdout",
     "output_type": "stream",
     "text": [
      "resolution_label (1520, 2704)\n"
     ]
    },
    {
     "name": "stderr",
     "output_type": "stream",
     "text": [
      "0: 832x1440 127 leafs, 9 stems, 20 tomatos, 346.7ms\n",
      "Speed: 6.4ms preprocess, 346.7ms inference, 744.7ms postprocess per image at shape (1, 3, 832, 1440)\n",
      "\n"
     ]
    },
    {
     "name": "stdout",
     "output_type": "stream",
     "text": [
      "resolution_label (1520, 2704)\n"
     ]
    },
    {
     "name": "stderr",
     "output_type": "stream",
     "text": [
      "0: 832x1440 118 leafs, 3 stems, 13 tomatos, 339.6ms\n",
      "Speed: 5.2ms preprocess, 339.6ms inference, 552.2ms postprocess per image at shape (1, 3, 832, 1440)\n",
      "\n"
     ]
    },
    {
     "name": "stdout",
     "output_type": "stream",
     "text": [
      "resolution_label (1520, 2704)\n"
     ]
    },
    {
     "name": "stderr",
     "output_type": "stream",
     "text": [
      "0: 832x1440 115 leafs, 11 stems, 17 tomatos, 328.5ms\n",
      "Speed: 6.7ms preprocess, 328.5ms inference, 584.4ms postprocess per image at shape (1, 3, 832, 1440)\n",
      "\n"
     ]
    },
    {
     "name": "stdout",
     "output_type": "stream",
     "text": [
      "resolution_label (1520, 2704)\n"
     ]
    },
    {
     "name": "stderr",
     "output_type": "stream",
     "text": [
      "0: 832x1440 120 leafs, 9 stems, 15 tomatos, 338.7ms\n",
      "Speed: 5.5ms preprocess, 338.7ms inference, 619.7ms postprocess per image at shape (1, 3, 832, 1440)\n",
      "\n"
     ]
    },
    {
     "name": "stdout",
     "output_type": "stream",
     "text": [
      "resolution_label (1520, 2704)\n"
     ]
    },
    {
     "name": "stderr",
     "output_type": "stream",
     "text": [
      "0: 832x1440 122 leafs, 7 stems, 21 tomatos, 328.1ms\n",
      "Speed: 7.0ms preprocess, 328.1ms inference, 619.6ms postprocess per image at shape (1, 3, 832, 1440)\n",
      "\n"
     ]
    },
    {
     "name": "stdout",
     "output_type": "stream",
     "text": [
      "resolution_label (1520, 2704)\n"
     ]
    },
    {
     "name": "stderr",
     "output_type": "stream",
     "text": [
      "0: 832x1440 127 leafs, 9 stems, 25 tomatos, 341.3ms\n",
      "Speed: 6.0ms preprocess, 341.3ms inference, 675.3ms postprocess per image at shape (1, 3, 832, 1440)\n",
      "\n"
     ]
    },
    {
     "name": "stdout",
     "output_type": "stream",
     "text": [
      "resolution_label (1520, 2704)\n"
     ]
    },
    {
     "name": "stderr",
     "output_type": "stream",
     "text": [
      "0: 832x1440 136 leafs, 7 stems, 25 tomatos, 335.3ms\n",
      "Speed: 5.9ms preprocess, 335.3ms inference, 702.7ms postprocess per image at shape (1, 3, 832, 1440)\n",
      "\n"
     ]
    },
    {
     "name": "stdout",
     "output_type": "stream",
     "text": [
      "resolution_label (1520, 2704)\n"
     ]
    },
    {
     "name": "stderr",
     "output_type": "stream",
     "text": [
      "0: 832x1440 138 leafs, 8 stems, 19 tomatos, 339.4ms\n",
      "Speed: 6.2ms preprocess, 339.4ms inference, 705.0ms postprocess per image at shape (1, 3, 832, 1440)\n",
      "\n"
     ]
    },
    {
     "name": "stdout",
     "output_type": "stream",
     "text": [
      "resolution_label (1520, 2704)\n"
     ]
    },
    {
     "name": "stderr",
     "output_type": "stream",
     "text": [
      "0: 832x1440 121 leafs, 6 stems, 25 tomatos, 342.1ms\n",
      "Speed: 6.8ms preprocess, 342.1ms inference, 663.7ms postprocess per image at shape (1, 3, 832, 1440)\n",
      "\n"
     ]
    },
    {
     "name": "stdout",
     "output_type": "stream",
     "text": [
      "resolution_label (1520, 2704)\n"
     ]
    },
    {
     "name": "stderr",
     "output_type": "stream",
     "text": [
      "0: 832x1440 154 leafs, 6 stems, 26 tomatos, 347.4ms\n",
      "Speed: 5.7ms preprocess, 347.4ms inference, 1096.3ms postprocess per image at shape (1, 3, 832, 1440)\n",
      "\n"
     ]
    },
    {
     "name": "stdout",
     "output_type": "stream",
     "text": [
      "resolution_label (1520, 2704)\n"
     ]
    },
    {
     "name": "stderr",
     "output_type": "stream",
     "text": [
      "0: 832x1440 100 leafs, 3 stems, 7 tomatos, 333.6ms\n",
      "Speed: 5.9ms preprocess, 333.6ms inference, 451.8ms postprocess per image at shape (1, 3, 832, 1440)\n",
      "\n"
     ]
    },
    {
     "name": "stdout",
     "output_type": "stream",
     "text": [
      "resolution_label (1520, 2704)\n"
     ]
    },
    {
     "name": "stderr",
     "output_type": "stream",
     "text": [
      "0: 832x1440 120 leafs, 11 stems, 16 tomatos, 352.4ms\n",
      "Speed: 6.0ms preprocess, 352.4ms inference, 650.1ms postprocess per image at shape (1, 3, 832, 1440)\n",
      "\n"
     ]
    },
    {
     "name": "stdout",
     "output_type": "stream",
     "text": [
      "resolution_label (1520, 2704)\n"
     ]
    },
    {
     "name": "stderr",
     "output_type": "stream",
     "text": [
      "0: 832x1440 119 leafs, 8 stems, 34 tomatos, 363.4ms\n",
      "Speed: 6.0ms preprocess, 363.4ms inference, 938.6ms postprocess per image at shape (1, 3, 832, 1440)\n",
      "\n"
     ]
    },
    {
     "name": "stdout",
     "output_type": "stream",
     "text": [
      "resolution_label (1520, 2704)\n"
     ]
    },
    {
     "name": "stderr",
     "output_type": "stream",
     "text": [
      "0: 832x1440 142 leafs, 7 stems, 9 tomatos, 336.0ms\n",
      "Speed: 6.0ms preprocess, 336.0ms inference, 821.0ms postprocess per image at shape (1, 3, 832, 1440)\n",
      "\n"
     ]
    },
    {
     "name": "stdout",
     "output_type": "stream",
     "text": [
      "resolution_label (1520, 2704)\n"
     ]
    },
    {
     "name": "stderr",
     "output_type": "stream",
     "text": [
      "0: 832x1440 142 leafs, 5 stems, 18 tomatos, 341.8ms\n",
      "Speed: 5.9ms preprocess, 341.8ms inference, 884.0ms postprocess per image at shape (1, 3, 832, 1440)\n",
      "\n"
     ]
    },
    {
     "name": "stdout",
     "output_type": "stream",
     "text": [
      "resolution_label (1520, 2704)\n"
     ]
    },
    {
     "name": "stderr",
     "output_type": "stream",
     "text": [
      "0: 832x1440 111 leafs, 9 stems, 27 tomatos, 347.8ms\n",
      "Speed: 5.7ms preprocess, 347.8ms inference, 611.3ms postprocess per image at shape (1, 3, 832, 1440)\n",
      "\n"
     ]
    },
    {
     "name": "stdout",
     "output_type": "stream",
     "text": [
      "resolution_label (1520, 2704)\n"
     ]
    },
    {
     "name": "stderr",
     "output_type": "stream",
     "text": [
      "0: 832x1440 136 leafs, 9 stems, 18 tomatos, 335.8ms\n",
      "Speed: 5.9ms preprocess, 335.8ms inference, 686.0ms postprocess per image at shape (1, 3, 832, 1440)\n",
      "\n"
     ]
    },
    {
     "name": "stdout",
     "output_type": "stream",
     "text": [
      "resolution_label (1520, 2704)\n"
     ]
    },
    {
     "name": "stderr",
     "output_type": "stream",
     "text": [
      "0: 832x1440 139 leafs, 10 stems, 15 tomatos, 345.5ms\n",
      "Speed: 6.3ms preprocess, 345.5ms inference, 774.8ms postprocess per image at shape (1, 3, 832, 1440)\n",
      "\n"
     ]
    },
    {
     "name": "stdout",
     "output_type": "stream",
     "text": [
      "resolution_label (1520, 2704)\n"
     ]
    },
    {
     "name": "stderr",
     "output_type": "stream",
     "text": [
      "0: 832x1440 104 leafs, 8 stems, 28 tomatos, 355.2ms\n",
      "Speed: 7.0ms preprocess, 355.2ms inference, 635.4ms postprocess per image at shape (1, 3, 832, 1440)\n",
      "\n"
     ]
    },
    {
     "name": "stdout",
     "output_type": "stream",
     "text": [
      "resolution_label (1520, 2704)\n"
     ]
    },
    {
     "name": "stderr",
     "output_type": "stream",
     "text": [
      "0: 832x1440 148 leafs, 6 stems, 20 tomatos, 337.3ms\n",
      "Speed: 6.0ms preprocess, 337.3ms inference, 907.7ms postprocess per image at shape (1, 3, 832, 1440)\n",
      "\n"
     ]
    },
    {
     "name": "stdout",
     "output_type": "stream",
     "text": [
      "resolution_label (1520, 2704)\n"
     ]
    },
    {
     "name": "stderr",
     "output_type": "stream",
     "text": [
      "0: 832x1440 93 leafs, 15 stems, 94 tomatos, 374.1ms\n",
      "Speed: 6.0ms preprocess, 374.1ms inference, 1897.5ms postprocess per image at shape (1, 3, 832, 1440)\n"
     ]
    }
   ],
   "source": [
    "pth_imgs = \"/Users/YaVolkonskiy/Documents/Projects/tomato/data/001_raw_data/001_video_data/002_GO_PRO_SBER_20231101_ALL/selected_imgs\"\n",
    "pth_out = \"/Users/YaVolkonskiy/Documents/Projects/tomato/data/001_raw_data/001_video_data/002_GO_PRO_SBER_20231101_ALL/selected_imgs_crop/\"\n",
    "\n",
    "weight_model = \"/Users/YaVolkonskiy/Documents/Projects/tomato/data/002_data_experiments/003_train_leaf_tomato_15-10-23/models/weights/best.pt\"\n",
    "\n",
    "c = YoloSeg2cutted_image(weight_model)\n",
    "c.get_labels(pth_imgs,pth_out)"
   ]
  },
  {
   "cell_type": "code",
   "execution_count": null,
   "id": "e69f2a2b-eae4-4541-83d4-0175e12f39d4",
   "metadata": {},
   "outputs": [],
   "source": [
    "from ultralytics import YOLO\n",
    "\n",
    "weight_model = \"/Users/YaVolkonskiy/Documents/Projects/tomato/scripts/003_train_leaf_tomat_det_seg/best.pt\"\n",
    "\n",
    "model = YOLO(weight_model)\n",
    "\n",
    "img = \"/Users/YaVolkonskiy/Documents/Projects/tomato/data/001_raw_data/001_video_data/002_GO_PRO_SBER_20231101_ALL/selected_imgs/GX010031_4.jpg\"\n",
    "\n",
    "model(img)[0].orig_img.shape"
   ]
  },
  {
   "cell_type": "code",
   "execution_count": null,
   "id": "2f9ba04a-a21a-4c04-9ffb-99179ebdc08d",
   "metadata": {},
   "outputs": [],
   "source": [
    "h=1520\n",
    "w=2704\n",
    "\n",
    "min(h,w)"
   ]
  },
  {
   "cell_type": "code",
   "execution_count": null,
   "id": "02464f5e-b080-4278-9bfc-3c105f1a189b",
   "metadata": {},
   "outputs": [],
   "source": []
  }
 ],
 "metadata": {
  "kernelspec": {
   "display_name": "Python 3 (ipykernel)",
   "language": "python",
   "name": "python3"
  },
  "language_info": {
   "codemirror_mode": {
    "name": "ipython",
    "version": 3
   },
   "file_extension": ".py",
   "mimetype": "text/x-python",
   "name": "python",
   "nbconvert_exporter": "python",
   "pygments_lexer": "ipython3",
   "version": "3.9.6"
  }
 },
 "nbformat": 4,
 "nbformat_minor": 5
}
